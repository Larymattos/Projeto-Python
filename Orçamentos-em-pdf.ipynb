{
  "nbformat": 4,
  "nbformat_minor": 0,
  "metadata": {
    "colab": {
      "provenance": [],
      "authorship_tag": "ABX9TyPhH+5/Q3L9s7g5MeGur8B9",
      "include_colab_link": true
    },
    "kernelspec": {
      "name": "python3",
      "display_name": "Python 3"
    },
    "language_info": {
      "name": "python"
    }
  },
  "cells": [
    {
      "cell_type": "markdown",
      "metadata": {
        "id": "view-in-github",
        "colab_type": "text"
      },
      "source": [
        "<a href=\"https://colab.research.google.com/github/Larymattos/Projeto-Python/blob/main/Or%C3%A7amento.ipynb\" target=\"_parent\"><img src=\"https://colab.research.google.com/assets/colab-badge.svg\" alt=\"Open In Colab\"/></a>"
      ]
    },
    {
      "cell_type": "markdown",
      "source": [],
      "metadata": {
        "id": "6trbMreXa-Zt"
      }
    },
    {
      "cell_type": "code",
      "execution_count": null,
      "metadata": {
        "id": "VgyCGxe8XPsj"
      },
      "outputs": [],
      "source": [
        "# Importar a biblioteca fpdf antes de usá-la\n",
        "!pip install fpdf\n",
        "from fpdf import FPDF\n",
        "\n",
        "# Solicitar informações do usuário\n",
        "Projeto = input(\"Digite a descrição do Projeto: \")\n",
        "horas_estimadas = input(\"Digite o total de horas estimadas: \")\n",
        "valor_hora = input(\"Digite o valor da hora trabalhada: \")\n",
        "prazo_estipulado = input(\"Digite o prazo estimado: \")\n",
        "\n",
        "# Calcular o valor total estimado\n",
        "valor_total_estimado = int(horas_estimadas) * int(valor_hora)\n",
        "print(valor_total_estimado)\n",
        "\n",
        "# Criar um objeto PDF\n",
        "pdf = FPDF()\n",
        "pdf.add_page()\n",
        "pdf.set_font(\"Arial\")\n",
        "\n",
        "# Adicionar a imagem ao PDF\n",
        "pdf.image(\"template.png\", x=0, y=0)\n",
        "\n",
        "# Adicionar informações ao PDF\n",
        "pdf.text(155, 145, Projeto)\n",
        "pdf.text(115, 160, horas_estimadas)\n",
        "pdf.text(115, 175, valor_hora)\n",
        "pdf.text(115, 205, str(valor_total_estimado))\n",
        "\n",
        "# Gerar o PDF e salvar\n",
        "pdf.output(\"orcamento.pdf\")\n",
        "print(\"Orçamento gerado com Sucesso!\")\n",
        "\n"
      ]
    }
  ]
}
